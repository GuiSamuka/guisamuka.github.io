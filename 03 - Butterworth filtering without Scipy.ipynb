{
 "cells": [
  {
   "cell_type": "markdown",
   "metadata": {
    "id": "c3q5TPBpizak"
   },
   "source": [
    "# Read data\r\n"
   ]
  },
  {
   "cell_type": "code",
   "execution_count": 1,
   "metadata": {
    "executionInfo": {
     "elapsed": 987,
     "status": "ok",
     "timestamp": 1615316309171,
     "user": {
      "displayName": "Guilherme Samuel",
      "photoUrl": "https://lh3.googleusercontent.com/a-/AOh14Gi5zFr3jUWJ1NdrUB6KSy3C4B0uR2RLqUiKRzi0S2M=s64",
      "userId": "17398030156076443435"
     },
     "user_tz": 180
    },
    "id": "R0SCdWGDiam1"
   },
   "outputs": [],
   "source": [
    "import pandas as pd\r\n",
    "import numpy as np\r\n",
    "import plotly.express as px\r\n",
    "import plotly.graph_objs as go"
   ]
  },
  {
   "cell_type": "code",
   "execution_count": 2,
   "metadata": {
    "executionInfo": {
     "elapsed": 980,
     "status": "ok",
     "timestamp": 1615316309172,
     "user": {
      "displayName": "Guilherme Samuel",
      "photoUrl": "https://lh3.googleusercontent.com/a-/AOh14Gi5zFr3jUWJ1NdrUB6KSy3C4B0uR2RLqUiKRzi0S2M=s64",
      "userId": "17398030156076443435"
     },
     "user_tz": 180
    },
    "id": "KeIroFMji6U1"
   },
   "outputs": [],
   "source": [
    "FILE_PATH = '/content/drive/MyDrive/01 - Iniciação Científica/02 - Datasets/csv_files/EN2_STAR_MON_0100725706_20070516T060226_20071005T074409.csv'"
   ]
  },
  {
   "cell_type": "code",
   "execution_count": 3,
   "metadata": {
    "colab": {
     "base_uri": "https://localhost:8080/",
     "height": 204
    },
    "executionInfo": {
     "elapsed": 973,
     "status": "ok",
     "timestamp": 1615316309173,
     "user": {
      "displayName": "Guilherme Samuel",
      "photoUrl": "https://lh3.googleusercontent.com/a-/AOh14Gi5zFr3jUWJ1NdrUB6KSy3C4B0uR2RLqUiKRzi0S2M=s64",
      "userId": "17398030156076443435"
     },
     "user_tz": 180
    },
    "id": "ZyK4DqFtjDV6",
    "outputId": "c32050ef-060b-4e6b-a8d1-d656a4de2948"
   },
   "outputs": [
    {
     "data": {
      "text/html": [
       "<div>\n",
       "<style scoped>\n",
       "    .dataframe tbody tr th:only-of-type {\n",
       "        vertical-align: middle;\n",
       "    }\n",
       "\n",
       "    .dataframe tbody tr th {\n",
       "        vertical-align: top;\n",
       "    }\n",
       "\n",
       "    .dataframe thead th {\n",
       "        text-align: right;\n",
       "    }\n",
       "</style>\n",
       "<table border=\"1\" class=\"dataframe\">\n",
       "  <thead>\n",
       "    <tr style=\"text-align: right;\">\n",
       "      <th></th>\n",
       "      <th>DATE</th>\n",
       "      <th>WHITEFLUX</th>\n",
       "    </tr>\n",
       "  </thead>\n",
       "  <tbody>\n",
       "    <tr>\n",
       "      <th>0</th>\n",
       "      <td>2007-05-16 18:11:00.787644</td>\n",
       "      <td>75564.110</td>\n",
       "    </tr>\n",
       "    <tr>\n",
       "      <th>1</th>\n",
       "      <td>2007-05-16 18:19:32.829687</td>\n",
       "      <td>75574.570</td>\n",
       "    </tr>\n",
       "    <tr>\n",
       "      <th>2</th>\n",
       "      <td>2007-05-16 18:28:04.871730</td>\n",
       "      <td>75547.414</td>\n",
       "    </tr>\n",
       "    <tr>\n",
       "      <th>3</th>\n",
       "      <td>2007-05-16 18:36:36.913772</td>\n",
       "      <td>75688.330</td>\n",
       "    </tr>\n",
       "    <tr>\n",
       "      <th>4</th>\n",
       "      <td>2007-05-16 18:45:08.955815</td>\n",
       "      <td>75712.540</td>\n",
       "    </tr>\n",
       "  </tbody>\n",
       "</table>\n",
       "</div>"
      ],
      "text/plain": [
       "                         DATE  WHITEFLUX\n",
       "0  2007-05-16 18:11:00.787644  75564.110\n",
       "1  2007-05-16 18:19:32.829687  75574.570\n",
       "2  2007-05-16 18:28:04.871730  75547.414\n",
       "3  2007-05-16 18:36:36.913772  75688.330\n",
       "4  2007-05-16 18:45:08.955815  75712.540"
      ]
     },
     "execution_count": 3,
     "metadata": {
      "tags": []
     },
     "output_type": "execute_result"
    }
   ],
   "source": [
    "df = pd.read_csv(FILE_PATH)\r\n",
    "df.head()"
   ]
  },
  {
   "cell_type": "code",
   "execution_count": 4,
   "metadata": {
    "executionInfo": {
     "elapsed": 965,
     "status": "ok",
     "timestamp": 1615316309173,
     "user": {
      "displayName": "Guilherme Samuel",
      "photoUrl": "https://lh3.googleusercontent.com/a-/AOh14Gi5zFr3jUWJ1NdrUB6KSy3C4B0uR2RLqUiKRzi0S2M=s64",
      "userId": "17398030156076443435"
     },
     "user_tz": 180
    },
    "id": "qWf_alVojJdK"
   },
   "outputs": [],
   "source": [
    "x = df.DATE.to_numpy()\r\n",
    "y = df.WHITEFLUX.to_numpy()"
   ]
  },
  {
   "cell_type": "markdown",
   "metadata": {
    "id": "l4uGNIOJjFeq"
   },
   "source": [
    "# Filtering"
   ]
  },
  {
   "cell_type": "markdown",
   "metadata": {
    "id": "8w6Ankjbjgd-"
   },
   "source": [
    "## 1. Artificial borders"
   ]
  },
  {
   "cell_type": "code",
   "execution_count": 5,
   "metadata": {
    "executionInfo": {
     "elapsed": 958,
     "status": "ok",
     "timestamp": 1615316309174,
     "user": {
      "displayName": "Guilherme Samuel",
      "photoUrl": "https://lh3.googleusercontent.com/a-/AOh14Gi5zFr3jUWJ1NdrUB6KSy3C4B0uR2RLqUiKRzi0S2M=s64",
      "userId": "17398030156076443435"
     },
     "user_tz": 180
    },
    "id": "GqpJZKA2jD5j"
   },
   "outputs": [],
   "source": [
    "def artifical_borders(array, num):\r\n",
    "  aux_pre = np.zeros(num)\r\n",
    "  aux_pos = np.zeros(num)\r\n",
    "  i = 0\r\n",
    "  for i in range(num):\r\n",
    "    aux_pre[i] = array[0]\r\n",
    "    aux_pos[i] = array[-1]\r\n",
    "  \r\n",
    "  return np.concatenate((aux_pre, array, aux_pos)).ravel()"
   ]
  },
  {
   "cell_type": "code",
   "execution_count": 6,
   "metadata": {
    "executionInfo": {
     "elapsed": 949,
     "status": "ok",
     "timestamp": 1615316309174,
     "user": {
      "displayName": "Guilherme Samuel",
      "photoUrl": "https://lh3.googleusercontent.com/a-/AOh14Gi5zFr3jUWJ1NdrUB6KSy3C4B0uR2RLqUiKRzi0S2M=s64",
      "userId": "17398030156076443435"
     },
     "user_tz": 180
    },
    "id": "NBhnfl2ijOmD"
   },
   "outputs": [],
   "source": [
    "# Defining the numbers of points to be added\r\n",
    "\r\n",
    "param = 70"
   ]
  },
  {
   "cell_type": "code",
   "execution_count": 7,
   "metadata": {
    "colab": {
     "base_uri": "https://localhost:8080/"
    },
    "executionInfo": {
     "elapsed": 940,
     "status": "ok",
     "timestamp": 1615316309174,
     "user": {
      "displayName": "Guilherme Samuel",
      "photoUrl": "https://lh3.googleusercontent.com/a-/AOh14Gi5zFr3jUWJ1NdrUB6KSy3C4B0uR2RLqUiKRzi0S2M=s64",
      "userId": "17398030156076443435"
     },
     "user_tz": 180
    },
    "id": "_JqgOnU-jPYx",
    "outputId": "31bf4277-e5fb-43c9-efb8-0d7b616adb1e"
   },
   "outputs": [
    {
     "name": "stdout",
     "output_type": "stream",
     "text": [
      "The original length was: 23952 , and now we have: 24092 \n",
      "The difference is: 140\n"
     ]
    }
   ],
   "source": [
    "y_artifical_borders = artifical_borders(y, param)\r\n",
    "\r\n",
    "print(\"The original length was:\", len(y), \", and now we have:\", len(y_artifical_borders), \"\\nThe difference is:\", (len(y_artifical_borders) - len(y) ))"
   ]
  },
  {
   "cell_type": "markdown",
   "metadata": {
    "id": "rcKHspTsjg58"
   },
   "source": [
    "## 2. Zero Padding"
   ]
  },
  {
   "cell_type": "code",
   "execution_count": 8,
   "metadata": {
    "executionInfo": {
     "elapsed": 934,
     "status": "ok",
     "timestamp": 1615316309175,
     "user": {
      "displayName": "Guilherme Samuel",
      "photoUrl": "https://lh3.googleusercontent.com/a-/AOh14Gi5zFr3jUWJ1NdrUB6KSy3C4B0uR2RLqUiKRzi0S2M=s64",
      "userId": "17398030156076443435"
     },
     "user_tz": 180
    },
    "id": "kYsXoH4hjioE"
   },
   "outputs": [],
   "source": [
    "def padding(array):\r\n",
    "  return np.append(array, np.zeros(len(array)))"
   ]
  },
  {
   "cell_type": "code",
   "execution_count": 9,
   "metadata": {
    "colab": {
     "base_uri": "https://localhost:8080/"
    },
    "executionInfo": {
     "elapsed": 926,
     "status": "ok",
     "timestamp": 1615316309175,
     "user": {
      "displayName": "Guilherme Samuel",
      "photoUrl": "https://lh3.googleusercontent.com/a-/AOh14Gi5zFr3jUWJ1NdrUB6KSy3C4B0uR2RLqUiKRzi0S2M=s64",
      "userId": "17398030156076443435"
     },
     "user_tz": 180
    },
    "id": "neKUMFHVjjMS",
    "outputId": "f8a8de1d-39c5-41a0-cc2a-21bb3822b312"
   },
   "outputs": [
    {
     "name": "stdout",
     "output_type": "stream",
     "text": [
      "The previous length was: 24092 , and now we have: 48184 \n",
      "The difference is: 24092\n"
     ]
    }
   ],
   "source": [
    "y_padding = padding(y_artifical_borders)\r\n",
    "\r\n",
    "print(\"The previous length was:\", len(y_artifical_borders), \", and now we have:\", len(y_padding), \"\\nThe difference is:\", (len(y_padding) - len(y_artifical_borders) ))"
   ]
  },
  {
   "cell_type": "markdown",
   "metadata": {
    "id": "EHh_YpdujoYf"
   },
   "source": [
    "## 3. Multiply by $(-1)^i$ "
   ]
  },
  {
   "cell_type": "code",
   "execution_count": 10,
   "metadata": {
    "executionInfo": {
     "elapsed": 1259,
     "status": "ok",
     "timestamp": 1615316309516,
     "user": {
      "displayName": "Guilherme Samuel",
      "photoUrl": "https://lh3.googleusercontent.com/a-/AOh14Gi5zFr3jUWJ1NdrUB6KSy3C4B0uR2RLqUiKRzi0S2M=s64",
      "userId": "17398030156076443435"
     },
     "user_tz": 180
    },
    "id": "A93brM-8kBuv"
   },
   "outputs": [],
   "source": [
    "def multiplying_by_minus_one_to_index(array):\r\n",
    "  i = 0\r\n",
    "  new_array = np.ones(len(array))\r\n",
    "\r\n",
    "  for i in range(len(array)):\r\n",
    "    new_array[i] = array[i] * ( (-1)**(i) )\r\n",
    "  \r\n",
    "  return new_array"
   ]
  },
  {
   "cell_type": "code",
   "execution_count": 11,
   "metadata": {
    "executionInfo": {
     "elapsed": 1252,
     "status": "ok",
     "timestamp": 1615316309516,
     "user": {
      "displayName": "Guilherme Samuel",
      "photoUrl": "https://lh3.googleusercontent.com/a-/AOh14Gi5zFr3jUWJ1NdrUB6KSy3C4B0uR2RLqUiKRzi0S2M=s64",
      "userId": "17398030156076443435"
     },
     "user_tz": 180
    },
    "id": "4rxcxQFOkLGm"
   },
   "outputs": [],
   "source": [
    "y_multiplied = multiplying_by_minus_one_to_index(y_padding)"
   ]
  },
  {
   "cell_type": "markdown",
   "metadata": {
    "id": "yhxCKypmkSrP"
   },
   "source": [
    "## 4. Fourier Transform"
   ]
  },
  {
   "cell_type": "code",
   "execution_count": 12,
   "metadata": {
    "executionInfo": {
     "elapsed": 1244,
     "status": "ok",
     "timestamp": 1615316309516,
     "user": {
      "displayName": "Guilherme Samuel",
      "photoUrl": "https://lh3.googleusercontent.com/a-/AOh14Gi5zFr3jUWJ1NdrUB6KSy3C4B0uR2RLqUiKRzi0S2M=s64",
      "userId": "17398030156076443435"
     },
     "user_tz": 180
    },
    "id": "K6dZBOBAkURt"
   },
   "outputs": [],
   "source": [
    "def fourier_transform(array):\r\n",
    "  fft = np.fft.fft(array)\r\n",
    "  \r\n",
    "  return fft"
   ]
  },
  {
   "cell_type": "code",
   "execution_count": 13,
   "metadata": {
    "executionInfo": {
     "elapsed": 1238,
     "status": "ok",
     "timestamp": 1615316309517,
     "user": {
      "displayName": "Guilherme Samuel",
      "photoUrl": "https://lh3.googleusercontent.com/a-/AOh14Gi5zFr3jUWJ1NdrUB6KSy3C4B0uR2RLqUiKRzi0S2M=s64",
      "userId": "17398030156076443435"
     },
     "user_tz": 180
    },
    "id": "QW2s5o6hkWlE"
   },
   "outputs": [],
   "source": [
    "y_fft = fourier_transform(y_multiplied)"
   ]
  },
  {
   "cell_type": "code",
   "execution_count": 14,
   "metadata": {
    "colab": {
     "base_uri": "https://localhost:8080/"
    },
    "executionInfo": {
     "elapsed": 1230,
     "status": "ok",
     "timestamp": 1615316309517,
     "user": {
      "displayName": "Guilherme Samuel",
      "photoUrl": "https://lh3.googleusercontent.com/a-/AOh14Gi5zFr3jUWJ1NdrUB6KSy3C4B0uR2RLqUiKRzi0S2M=s64",
      "userId": "17398030156076443435"
     },
     "user_tz": 180
    },
    "id": "NAviyim_L_QR",
    "outputId": "5c72bf50-b3c3-4ae3-cc7e-241a7c289a91"
   },
   "outputs": [
    {
     "data": {
      "text/plain": [
       "array([-16673.57200001+8.36371328e-09j,  47796.28989974+1.23804272e+04j,\n",
       "         1859.81772268+2.77695961e+04j, ...,\n",
       "        79054.83095289-8.48836152e+03j,   1859.81772268-2.77695961e+04j,\n",
       "        47796.28989975-1.23804272e+04j])"
      ]
     },
     "execution_count": 14,
     "metadata": {
      "tags": []
     },
     "output_type": "execute_result"
    }
   ],
   "source": [
    "y_fft"
   ]
  },
  {
   "cell_type": "markdown",
   "metadata": {
    "id": "cviBJHtckYbY"
   },
   "source": [
    "## 5. Butterworth transfer function"
   ]
  },
  {
   "cell_type": "code",
   "execution_count": 15,
   "metadata": {
    "executionInfo": {
     "elapsed": 1222,
     "status": "ok",
     "timestamp": 1615316309518,
     "user": {
      "displayName": "Guilherme Samuel",
      "photoUrl": "https://lh3.googleusercontent.com/a-/AOh14Gi5zFr3jUWJ1NdrUB6KSy3C4B0uR2RLqUiKRzi0S2M=s64",
      "userId": "17398030156076443435"
     },
     "user_tz": 180
    },
    "id": "Q2gCpWjfktHv"
   },
   "outputs": [],
   "source": [
    "cutoff_freq = 0.06 # Nyquist\r\n",
    "order = 6"
   ]
  },
  {
   "cell_type": "code",
   "execution_count": 16,
   "metadata": {
    "colab": {
     "base_uri": "https://localhost:8080/"
    },
    "executionInfo": {
     "elapsed": 1214,
     "status": "ok",
     "timestamp": 1615316309518,
     "user": {
      "displayName": "Guilherme Samuel",
      "photoUrl": "https://lh3.googleusercontent.com/a-/AOh14Gi5zFr3jUWJ1NdrUB6KSy3C4B0uR2RLqUiKRzi0S2M=s64",
      "userId": "17398030156076443435"
     },
     "user_tz": 180
    },
    "id": "qy7ahn_Nkxq6",
    "outputId": "aa1349ca-1326-469d-b778-a66cfa615f61"
   },
   "outputs": [
    {
     "data": {
      "text/plain": [
       "23952"
      ]
     },
     "execution_count": 16,
     "metadata": {
      "tags": []
     },
     "output_type": "execute_result"
    }
   ],
   "source": [
    "(n_time, columns) = df.shape\r\n",
    "n_time"
   ]
  },
  {
   "cell_type": "code",
   "execution_count": 17,
   "metadata": {
    "executionInfo": {
     "elapsed": 1207,
     "status": "ok",
     "timestamp": 1615316309518,
     "user": {
      "displayName": "Guilherme Samuel",
      "photoUrl": "https://lh3.googleusercontent.com/a-/AOh14Gi5zFr3jUWJ1NdrUB6KSy3C4B0uR2RLqUiKRzi0S2M=s64",
      "userId": "17398030156076443435"
     },
     "user_tz": 180
    },
    "id": "YjQDJF1xky--"
   },
   "outputs": [],
   "source": [
    "d0 = cutoff_freq * n_time\r\n",
    "xc = n_time"
   ]
  },
  {
   "cell_type": "code",
   "execution_count": 18,
   "metadata": {
    "colab": {
     "base_uri": "https://localhost:8080/"
    },
    "executionInfo": {
     "elapsed": 1200,
     "status": "ok",
     "timestamp": 1615316309519,
     "user": {
      "displayName": "Guilherme Samuel",
      "photoUrl": "https://lh3.googleusercontent.com/a-/AOh14Gi5zFr3jUWJ1NdrUB6KSy3C4B0uR2RLqUiKRzi0S2M=s64",
      "userId": "17398030156076443435"
     },
     "user_tz": 180
    },
    "id": "n6p7erprky5l",
    "outputId": "c080922c-cb3c-4f03-d04e-1dfe2a7b968a"
   },
   "outputs": [
    {
     "data": {
      "text/plain": [
       "48184"
      ]
     },
     "execution_count": 18,
     "metadata": {
      "tags": []
     },
     "output_type": "execute_result"
    }
   ],
   "source": [
    "filter = np.zeros(int(2*(n_time + 2*param)))\r\n",
    "len(filter)"
   ]
  },
  {
   "cell_type": "markdown",
   "metadata": {
    "id": "XWuNk1uok-4Q"
   },
   "source": [
    "### Creating a filter array\r\n"
   ]
  },
  {
   "cell_type": "code",
   "execution_count": 19,
   "metadata": {
    "executionInfo": {
     "elapsed": 1193,
     "status": "ok",
     "timestamp": 1615316309519,
     "user": {
      "displayName": "Guilherme Samuel",
      "photoUrl": "https://lh3.googleusercontent.com/a-/AOh14Gi5zFr3jUWJ1NdrUB6KSy3C4B0uR2RLqUiKRzi0S2M=s64",
      "userId": "17398030156076443435"
     },
     "user_tz": 180
    },
    "id": "w2YBpNgcG-MH"
   },
   "outputs": [],
   "source": [
    "for i in range(int(2.0*n_time + param)):\r\n",
    "   filter[i] = 1.0/ (1.0+(abs(i-(xc-1.0))/d0)**(2.0*order))"
   ]
  },
  {
   "cell_type": "code",
   "execution_count": 20,
   "metadata": {
    "colab": {
     "base_uri": "https://localhost:8080/"
    },
    "executionInfo": {
     "elapsed": 1185,
     "status": "ok",
     "timestamp": 1615316309520,
     "user": {
      "displayName": "Guilherme Samuel",
      "photoUrl": "https://lh3.googleusercontent.com/a-/AOh14Gi5zFr3jUWJ1NdrUB6KSy3C4B0uR2RLqUiKRzi0S2M=s64",
      "userId": "17398030156076443435"
     },
     "user_tz": 180
    },
    "id": "4eWq1YZ0Vwxr",
    "outputId": "51fe6bba-ace0-44b6-d341-5053d5693123"
   },
   "outputs": [
    {
     "data": {
      "text/plain": [
       "array([2.17787320e-15, 2.17896466e-15, 2.18005672e-15, ...,\n",
       "       0.00000000e+00, 0.00000000e+00, 0.00000000e+00])"
      ]
     },
     "execution_count": 20,
     "metadata": {
      "tags": []
     },
     "output_type": "execute_result"
    }
   ],
   "source": [
    "filter"
   ]
  },
  {
   "cell_type": "markdown",
   "metadata": {
    "id": "i-bpyY_lk9X_"
   },
   "source": [
    "### Apply filter"
   ]
  },
  {
   "cell_type": "code",
   "execution_count": 21,
   "metadata": {
    "colab": {
     "base_uri": "https://localhost:8080/"
    },
    "executionInfo": {
     "elapsed": 1178,
     "status": "ok",
     "timestamp": 1615316309520,
     "user": {
      "displayName": "Guilherme Samuel",
      "photoUrl": "https://lh3.googleusercontent.com/a-/AOh14Gi5zFr3jUWJ1NdrUB6KSy3C4B0uR2RLqUiKRzi0S2M=s64",
      "userId": "17398030156076443435"
     },
     "user_tz": 180
    },
    "id": "pMHd5ptwk-hF",
    "outputId": "08766073-c585-44f2-f265-4d3f81caa790"
   },
   "outputs": [
    {
     "data": {
      "text/plain": [
       "array([-3.63129257e-11+1.82151070e-23j,  1.04146427e-10+2.69765134e-11j,\n",
       "        4.05450812e-12+6.05392946e-11j, ...,\n",
       "        0.00000000e+00+0.00000000e+00j,  0.00000000e+00+0.00000000e+00j,\n",
       "        0.00000000e+00+0.00000000e+00j])"
      ]
     },
     "execution_count": 21,
     "metadata": {
      "tags": []
     },
     "output_type": "execute_result"
    }
   ],
   "source": [
    "y_butter = filter * y_fft\r\n",
    "y_butter"
   ]
  },
  {
   "cell_type": "markdown",
   "metadata": {
    "id": "fU61GckYlF3y"
   },
   "source": [
    "## 6. Inverse Fourier Transform"
   ]
  },
  {
   "cell_type": "code",
   "execution_count": 22,
   "metadata": {
    "executionInfo": {
     "elapsed": 1431,
     "status": "ok",
     "timestamp": 1615316309780,
     "user": {
      "displayName": "Guilherme Samuel",
      "photoUrl": "https://lh3.googleusercontent.com/a-/AOh14Gi5zFr3jUWJ1NdrUB6KSy3C4B0uR2RLqUiKRzi0S2M=s64",
      "userId": "17398030156076443435"
     },
     "user_tz": 180
    },
    "id": "WOxNcT-mlLlh"
   },
   "outputs": [],
   "source": [
    "def inverse_fourier_transform(array):\r\n",
    "  ifft = np.fft.ifft(array)\r\n",
    "\r\n",
    "  return ifft"
   ]
  },
  {
   "cell_type": "code",
   "execution_count": 23,
   "metadata": {
    "colab": {
     "base_uri": "https://localhost:8080/"
    },
    "executionInfo": {
     "elapsed": 1418,
     "status": "ok",
     "timestamp": 1615316309781,
     "user": {
      "displayName": "Guilherme Samuel",
      "photoUrl": "https://lh3.googleusercontent.com/a-/AOh14Gi5zFr3jUWJ1NdrUB6KSy3C4B0uR2RLqUiKRzi0S2M=s64",
      "userId": "17398030156076443435"
     },
     "user_tz": 180
    },
    "id": "UYzS22fDlPh2",
    "outputId": "2201944c-6ee1-4d24-fc78-5d04153c65b1"
   },
   "outputs": [
    {
     "data": {
      "text/plain": [
       "array([ 40061.84475311, -44591.25236119,  49031.44367049, ...,\n",
       "       -26532.82106322,  30973.01789152, -35502.42816796])"
      ]
     },
     "execution_count": 23,
     "metadata": {
      "tags": []
     },
     "output_type": "execute_result"
    }
   ],
   "source": [
    "y_ifft = np.real(inverse_fourier_transform(y_butter))\r\n",
    "y_ifft"
   ]
  },
  {
   "cell_type": "markdown",
   "metadata": {
    "id": "KPSIPZKhlXTc"
   },
   "source": [
    "## 7. Removing Zero Padding"
   ]
  },
  {
   "cell_type": "code",
   "execution_count": 24,
   "metadata": {
    "colab": {
     "base_uri": "https://localhost:8080/"
    },
    "executionInfo": {
     "elapsed": 1410,
     "status": "ok",
     "timestamp": 1615316309781,
     "user": {
      "displayName": "Guilherme Samuel",
      "photoUrl": "https://lh3.googleusercontent.com/a-/AOh14Gi5zFr3jUWJ1NdrUB6KSy3C4B0uR2RLqUiKRzi0S2M=s64",
      "userId": "17398030156076443435"
     },
     "user_tz": 180
    },
    "id": "bw9r52pElY9T",
    "outputId": "18b84b79-3ad5-48c8-b41c-affa420ca542"
   },
   "outputs": [
    {
     "name": "stdout",
     "output_type": "stream",
     "text": [
      "The before length was: 48184 , and now we have: 24092\n"
     ]
    }
   ],
   "source": [
    "y1 = y_ifft[:int(len(y_ifft)/2)]\r\n",
    "\r\n",
    "print(\"The before length was:\", len(y_ifft), \", and now we have:\", len(y1))"
   ]
  },
  {
   "cell_type": "code",
   "execution_count": 25,
   "metadata": {
    "colab": {
     "base_uri": "https://localhost:8080/"
    },
    "executionInfo": {
     "elapsed": 1402,
     "status": "ok",
     "timestamp": 1615316309782,
     "user": {
      "displayName": "Guilherme Samuel",
      "photoUrl": "https://lh3.googleusercontent.com/a-/AOh14Gi5zFr3jUWJ1NdrUB6KSy3C4B0uR2RLqUiKRzi0S2M=s64",
      "userId": "17398030156076443435"
     },
     "user_tz": 180
    },
    "id": "WLMC1eO7NlRD",
    "outputId": "064b0518-b3d1-445e-c404-a190118dc2ca"
   },
   "outputs": [
    {
     "data": {
      "text/plain": [
       "array([ 40061.84475311, -44591.25236119,  49031.44367049, ...,\n",
       "       -49487.43036895,  45005.9389584 , -40434.40507966])"
      ]
     },
     "execution_count": 25,
     "metadata": {
      "tags": []
     },
     "output_type": "execute_result"
    }
   ],
   "source": [
    "y1"
   ]
  },
  {
   "cell_type": "markdown",
   "metadata": {
    "id": "CuDyzm3OlhBj"
   },
   "source": [
    "## 8. Cuting artificial borders"
   ]
  },
  {
   "cell_type": "code",
   "execution_count": 26,
   "metadata": {
    "executionInfo": {
     "elapsed": 1393,
     "status": "ok",
     "timestamp": 1615316309782,
     "user": {
      "displayName": "Guilherme Samuel",
      "photoUrl": "https://lh3.googleusercontent.com/a-/AOh14Gi5zFr3jUWJ1NdrUB6KSy3C4B0uR2RLqUiKRzi0S2M=s64",
      "userId": "17398030156076443435"
     },
     "user_tz": 180
    },
    "id": "ITfHyz2klh77"
   },
   "outputs": [],
   "source": [
    "param = param # equals 70, but we might change that value"
   ]
  },
  {
   "cell_type": "code",
   "execution_count": 27,
   "metadata": {
    "colab": {
     "base_uri": "https://localhost:8080/"
    },
    "executionInfo": {
     "elapsed": 1385,
     "status": "ok",
     "timestamp": 1615316309782,
     "user": {
      "displayName": "Guilherme Samuel",
      "photoUrl": "https://lh3.googleusercontent.com/a-/AOh14Gi5zFr3jUWJ1NdrUB6KSy3C4B0uR2RLqUiKRzi0S2M=s64",
      "userId": "17398030156076443435"
     },
     "user_tz": 180
    },
    "id": "_auuwvhXljW6",
    "outputId": "e840c247-0d2d-48c4-aa0c-649c665ab778"
   },
   "outputs": [
    {
     "data": {
      "text/plain": [
       "array([ 75486.84813925, -75500.92753975,  75516.38608975, ...,\n",
       "       -76185.28295457,  76172.25850588, -76160.68077399])"
      ]
     },
     "execution_count": 27,
     "metadata": {
      "tags": []
     },
     "output_type": "execute_result"
    }
   ],
   "source": [
    "y2 = np.delete(y1, np.s_[:param])\r\n",
    "y3 = np.delete(y2, np.s_[-param:])\r\n",
    "\r\n",
    "y3"
   ]
  },
  {
   "cell_type": "markdown",
   "metadata": {
    "id": "9Bna41e7lRU7"
   },
   "source": [
    "## 9. Re-multiplying data by $(-1)^{i}$"
   ]
  },
  {
   "cell_type": "code",
   "execution_count": 28,
   "metadata": {
    "colab": {
     "base_uri": "https://localhost:8080/"
    },
    "executionInfo": {
     "elapsed": 1379,
     "status": "ok",
     "timestamp": 1615316309783,
     "user": {
      "displayName": "Guilherme Samuel",
      "photoUrl": "https://lh3.googleusercontent.com/a-/AOh14Gi5zFr3jUWJ1NdrUB6KSy3C4B0uR2RLqUiKRzi0S2M=s64",
      "userId": "17398030156076443435"
     },
     "user_tz": 180
    },
    "id": "dcKGVpG6lWQ2",
    "outputId": "e250c527-2141-4634-b800-e4174117e425"
   },
   "outputs": [
    {
     "data": {
      "text/plain": [
       "array([75486.84813925, 75500.92753975, 75516.38608975, ...,\n",
       "       76185.28295457, 76172.25850588, 76160.68077399])"
      ]
     },
     "execution_count": 28,
     "metadata": {
      "tags": []
     },
     "output_type": "execute_result"
    }
   ],
   "source": [
    "y_plot = multiplying_by_minus_one_to_index(y3)\r\n",
    "y_plot"
   ]
  },
  {
   "cell_type": "markdown",
   "metadata": {
    "id": "zDux-JVBlmzt"
   },
   "source": [
    "## 10. Plotting results"
   ]
  },
  {
   "cell_type": "code",
   "execution_count": null,
   "metadata": {
    "id": "jtcsrQ3jlosU"
   },
   "outputs": [],
   "source": [
    "fig = go.Figure()\r\n",
    "\r\n",
    "fig.add_trace(go.Scatter(x=x, y=y,\r\n",
    "                           mode='lines',\r\n",
    "                           name='Original Light Curve'))\r\n",
    "\r\n",
    "fig.add_trace(go.Scatter(x=x, y=y_plot,\r\n",
    "                           mode='lines',\r\n",
    "                           name='Light Curve Filtered'))\r\n",
    "\r\n",
    "fig.update_layout(title='Light Curve before and after the Butterworth filter',\r\n",
    "                   xaxis_title='Date',\r\n",
    "                   yaxis_title='Whiteflux')\r\n",
    "\r\n",
    "fig.show()"
   ]
  },
  {
   "cell_type": "markdown",
   "metadata": {
    "id": "RiI7Jo7nW_QA"
   },
   "source": [
    "![math.png](data:image/png;base64,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)"
   ]
  }
 ],
 "metadata": {
  "colab": {
   "authorship_tag": "ABX9TyNysNrDlxYjSodUp0BKKcBg",
   "collapsed_sections": [
    "8w6Ankjbjgd-",
    "rcKHspTsjg58",
    "EHh_YpdujoYf",
    "yhxCKypmkSrP",
    "cviBJHtckYbY",
    "fU61GckYlF3y",
    "KPSIPZKhlXTc",
    "CuDyzm3OlhBj",
    "9Bna41e7lRU7"
   ],
   "mount_file_id": "1tNY0INBm6Tze3feJtUBGDETd-4X73FBj",
   "name": "03 - Butterworth filtering without Scipy.ipynb",
   "provenance": [],
   "toc_visible": true
  },
  "kernelspec": {
   "display_name": "Python 3",
   "name": "python3"
  }
 },
 "nbformat": 4,
 "nbformat_minor": 0
}
