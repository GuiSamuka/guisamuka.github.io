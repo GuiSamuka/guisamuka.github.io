{
 "cells": [
  {
   "cell_type": "markdown",
   "metadata": {
    "id": "x_slpeIwHNWn"
   },
   "source": [
    "# Reading the data \n",
    "\n",
    "---\n",
    "\n",
    "Lately, the _.fits_ data was transformed into _.csv_ and saved in database/csv_files. We are going to import a light curve sample and work with it."
   ]
  },
  {
   "cell_type": "code",
   "execution_count": 2,
   "metadata": {
    "executionInfo": {
     "elapsed": 582,
     "status": "ok",
     "timestamp": 1616537141144,
     "user": {
      "displayName": "Guilherme Samuel",
      "photoUrl": "https://lh3.googleusercontent.com/a-/AOh14Gi5zFr3jUWJ1NdrUB6KSy3C4B0uR2RLqUiKRzi0S2M=s64",
      "userId": "17398030156076443435"
     },
     "user_tz": 180
    },
    "id": "upCHXjVxHAMw"
   },
   "outputs": [],
   "source": [
    "FILE_PATH = '/content/drive/MyDrive/01 - Iniciação Científica/02 - Datasets/csv_files/EN2_STAR_MON_0100725706_20070516T060226_20071005T074409.csv'"
   ]
  },
  {
   "cell_type": "code",
   "execution_count": 4,
   "metadata": {
    "colab": {
     "base_uri": "https://localhost:8080/",
     "height": 419
    },
    "executionInfo": {
     "elapsed": 2045,
     "status": "ok",
     "timestamp": 1616537250320,
     "user": {
      "displayName": "Guilherme Samuel",
      "photoUrl": "https://lh3.googleusercontent.com/a-/AOh14Gi5zFr3jUWJ1NdrUB6KSy3C4B0uR2RLqUiKRzi0S2M=s64",
      "userId": "17398030156076443435"
     },
     "user_tz": 180
    },
    "id": "UjOxe5EiH4RQ",
    "outputId": "531b2fbc-8f46-4f5a-ac19-a4c269d0b2df"
   },
   "outputs": [
    {
     "data": {
      "text/html": [
       "<div>\n",
       "<style scoped>\n",
       "    .dataframe tbody tr th:only-of-type {\n",
       "        vertical-align: middle;\n",
       "    }\n",
       "\n",
       "    .dataframe tbody tr th {\n",
       "        vertical-align: top;\n",
       "    }\n",
       "\n",
       "    .dataframe thead th {\n",
       "        text-align: right;\n",
       "    }\n",
       "</style>\n",
       "<table border=\"1\" class=\"dataframe\">\n",
       "  <thead>\n",
       "    <tr style=\"text-align: right;\">\n",
       "      <th></th>\n",
       "      <th>DATE</th>\n",
       "      <th>WHITEFLUX</th>\n",
       "    </tr>\n",
       "  </thead>\n",
       "  <tbody>\n",
       "    <tr>\n",
       "      <th>0</th>\n",
       "      <td>2007-05-16 18:11:00.787644</td>\n",
       "      <td>75564.110</td>\n",
       "    </tr>\n",
       "    <tr>\n",
       "      <th>1</th>\n",
       "      <td>2007-05-16 18:19:32.829687</td>\n",
       "      <td>75574.570</td>\n",
       "    </tr>\n",
       "    <tr>\n",
       "      <th>2</th>\n",
       "      <td>2007-05-16 18:28:04.871730</td>\n",
       "      <td>75547.414</td>\n",
       "    </tr>\n",
       "    <tr>\n",
       "      <th>3</th>\n",
       "      <td>2007-05-16 18:36:36.913772</td>\n",
       "      <td>75688.330</td>\n",
       "    </tr>\n",
       "    <tr>\n",
       "      <th>4</th>\n",
       "      <td>2007-05-16 18:45:08.955815</td>\n",
       "      <td>75712.540</td>\n",
       "    </tr>\n",
       "    <tr>\n",
       "      <th>...</th>\n",
       "      <td>...</td>\n",
       "      <td>...</td>\n",
       "    </tr>\n",
       "    <tr>\n",
       "      <th>23947</th>\n",
       "      <td>2007-10-05 19:07:57.408340</td>\n",
       "      <td>76158.750</td>\n",
       "    </tr>\n",
       "    <tr>\n",
       "      <th>23948</th>\n",
       "      <td>2007-10-05 19:16:29.363037</td>\n",
       "      <td>76133.880</td>\n",
       "    </tr>\n",
       "    <tr>\n",
       "      <th>23949</th>\n",
       "      <td>2007-10-05 19:25:01.317813</td>\n",
       "      <td>76243.290</td>\n",
       "    </tr>\n",
       "    <tr>\n",
       "      <th>23950</th>\n",
       "      <td>2007-10-05 19:33:33.272550</td>\n",
       "      <td>76274.560</td>\n",
       "    </tr>\n",
       "    <tr>\n",
       "      <th>23951</th>\n",
       "      <td>2007-10-05 19:42:05.227287</td>\n",
       "      <td>76266.960</td>\n",
       "    </tr>\n",
       "  </tbody>\n",
       "</table>\n",
       "<p>23952 rows × 2 columns</p>\n",
       "</div>"
      ],
      "text/plain": [
       "                             DATE  WHITEFLUX\n",
       "0      2007-05-16 18:11:00.787644  75564.110\n",
       "1      2007-05-16 18:19:32.829687  75574.570\n",
       "2      2007-05-16 18:28:04.871730  75547.414\n",
       "3      2007-05-16 18:36:36.913772  75688.330\n",
       "4      2007-05-16 18:45:08.955815  75712.540\n",
       "...                           ...        ...\n",
       "23947  2007-10-05 19:07:57.408340  76158.750\n",
       "23948  2007-10-05 19:16:29.363037  76133.880\n",
       "23949  2007-10-05 19:25:01.317813  76243.290\n",
       "23950  2007-10-05 19:33:33.272550  76274.560\n",
       "23951  2007-10-05 19:42:05.227287  76266.960\n",
       "\n",
       "[23952 rows x 2 columns]"
      ]
     },
     "metadata": {
      "tags": []
     },
     "output_type": "display_data"
    }
   ],
   "source": [
    "import pandas as pd\n",
    "\n",
    "data_sample = pd.read_csv(FILE_PATH)\n",
    "display(data_sample)"
   ]
  },
  {
   "cell_type": "markdown",
   "metadata": {
    "id": "HCZTbI0XJ9V5"
   },
   "source": [
    "Justify why we are transforming into x and y"
   ]
  },
  {
   "cell_type": "code",
   "execution_count": 6,
   "metadata": {
    "executionInfo": {
     "elapsed": 569,
     "status": "ok",
     "timestamp": 1616537262109,
     "user": {
      "displayName": "Guilherme Samuel",
      "photoUrl": "https://lh3.googleusercontent.com/a-/AOh14Gi5zFr3jUWJ1NdrUB6KSy3C4B0uR2RLqUiKRzi0S2M=s64",
      "userId": "17398030156076443435"
     },
     "user_tz": 180
    },
    "id": "i4z5eO7sIHps"
   },
   "outputs": [],
   "source": [
    "import numpy as np\n",
    "\n",
    "x = data_sample.DATE.to_numpy()\n",
    "y = data_sample.WHITEFLUX.to_numpy()"
   ]
  },
  {
   "cell_type": "markdown",
   "metadata": {
    "id": "Z9Ks-0GbITcT"
   },
   "source": [
    "# Frequency Domain Filtering Fundamentals\n",
    "\n",
    "---\n",
    "\n",
    "## Introduction\n",
    "Filtering in the frequency domain consists of modifying the Fourier transform of an signal (can be a image, a media file, a light curve...) and then taking the inverse tranform to obtained the filtered result. Thus, given a digital signal, $f(x)$, of length $M$, the basic filtering equation is: \n",
    "\n",
    "$$ g(x) = \\mathcal{F}^{-1}[H(u)F(u)] \\\\ $$\n",
    "\n",
    "where $\\mathcal{F}^{-1}$ is the Inverse discrete Fourier transform, $F(u)$ is the Fourier transform of the given function $f(x)$ (input), $H(u)$ is the _filter transfer function_, and $g(x)$ is the filtered signal (output). Both $F$, $H$ and $G$ are arrays of size $M$, the same as the input signal. The product $H(u)F(u)$ is formed using array multiplication; that is, $G(i, k)=H(i, k)F(i, k)$."
   ]
  },
  {
   "cell_type": "markdown",
   "metadata": {
    "id": "2yQwr99RIb2e"
   },
   "source": [
    "## Expand LightCurves borders\n",
    "\n",
    "Para realizar a filtragem das curvas de luz nesse trabalho, utilizaremos o algoritmo da Transformada rápida de Fourier (FFT) a fim de converter o sinal em seu domínio original no domínio da frequência. A escolha do FFT é simples, o algoritmo possui complexidade de $O(N\\space \\log N)$ enquanto a aplicação da definição da Transformada discreta de Fourier (DTFT) é de complexidade $O(N^2)$, sendo $N$ o tamanho dos dados, ou seja, ele é bem mais eficiente computacionalmente.\n",
    "\n",
    "\n",
    "Porém, o FFT tem algumas particulares que podem nos gerar problemas e resultados inesperados. O algoritmo é baseado no método de dobramentos sucessivos [Gonzalez and Woods, 1992] e isso significa que ele presume que o sinal recebido seja periódico e que o número de amostras seja um número inteiro e potência de 2, mas esse último não é um requisito geral. Contudo, a primeira conjectura é bastante relavante para não termos distorção no resultado do algoritmo. Coletar $M$ amostras de um sinal, o que o CoRoT fez para nós, equivale a recordar um pedaço finito do sinal real, ou seja, pegamos uma janela entre $T_1$ e $T-2$ de um sinal definido de ${-\\infty}$ até ${+\\infty}$. Há a possíbilidade de que essa janela represente perfeitamente as oscilações do sinal original, em outras palavras, que ela apresente períodos completos de todas as frequências, assim teremos uma FFT sem distorções, mas é estatísticamente improvavel que isso ocorra. Nesse caso, teremos períodos incompletos, o que irá introduzir distorções de alta frequência no sinal que, em geral, se encontrarão nas extremidades do sinal, visto que a FFT é recursiva, ou seja, o resultado do ponto $P+1$ depende do resultado no ponto $P$. \n",
    "\n",
    "Umas das maneiras de reduzir essas distorções é a através da escolha de diferentes janelamentos do sinal, conteudo como não queremos perder nenhum dado das curvas de luz, iremos utilizar o método de expansão das 'bordas' do nosso array. Dado um array $A$ de tamanho $K$, iremos adicionar $N$ pontos antes do primeiro ponto, $A[0]$ e $N$ pontos depois do último ponto, $A[-1]$. A definição dos valores dos $N$ será dada a partir do comportamento de $E(i)$:\n",
    "\n",
    "$$ E(i) = \\begin{cases}\n",
    "   A[0], &\\text{se } i < 0 \\\\\n",
    "   A[-1], &\\text{se } i > -1\n",
    "\\end{cases} \\\\ $$\n",
    "\n",
    "Ou seja, antes de $A[0]$ adicionaremos $N$ pontos de mesmo valor que $A[0]$ antes do primeiro termo e depois de $A[-1]$ adicionaremos $N$ pontos de mesmo valor de $A[-1]$ depois do último termo."
   ]
  },
  {
   "cell_type": "code",
   "execution_count": 7,
   "metadata": {
    "executionInfo": {
     "elapsed": 732,
     "status": "ok",
     "timestamp": 1616537932052,
     "user": {
      "displayName": "Guilherme Samuel",
      "photoUrl": "https://lh3.googleusercontent.com/a-/AOh14Gi5zFr3jUWJ1NdrUB6KSy3C4B0uR2RLqUiKRzi0S2M=s64",
      "userId": "17398030156076443435"
     },
     "user_tz": 180
    },
    "id": "W_q1CoR0KraX"
   },
   "outputs": [],
   "source": [
    "def expand_borders(array, num):\n",
    "  aux_pre = np.zeros(num)\n",
    "  aux_pos = np.zeros(num)\n",
    "  i = 0\n",
    "  for i in range(num):\n",
    "    aux_pre[i] = array[0]\n",
    "    aux_pos[i] = array[-1]\n",
    "  \n",
    "  return np.concatenate((aux_pre, array, aux_pos)).ravel()"
   ]
  },
  {
   "cell_type": "code",
   "execution_count": 44,
   "metadata": {
    "colab": {
     "base_uri": "https://localhost:8080/"
    },
    "executionInfo": {
     "elapsed": 606,
     "status": "ok",
     "timestamp": 1616538820757,
     "user": {
      "displayName": "Guilherme Samuel",
      "photoUrl": "https://lh3.googleusercontent.com/a-/AOh14Gi5zFr3jUWJ1NdrUB6KSy3C4B0uR2RLqUiKRzi0S2M=s64",
      "userId": "17398030156076443435"
     },
     "user_tz": 180
    },
    "id": "gXKfu7-pL1Rk",
    "outputId": "69b8d40a-927f-41fd-ed53-23cc57018202"
   },
   "outputs": [
    {
     "name": "stdout",
     "output_type": "stream",
     "text": [
      "The original length was: 23952 , and now we have: 24092 \n",
      "The difference is: 140\n"
     ]
    }
   ],
   "source": [
    "n_points_expansion = 70\n",
    "\n",
    "y_expanded = expand_borders(y, n_points)\n",
    "\n",
    "print(\"The original length was:\", len(y), \", and now we have:\", len(y_expanded), \"\\nThe difference is:\", (len(y_expanded) - len(y) ))"
   ]
  },
  {
   "cell_type": "markdown",
   "metadata": {
    "id": "V-SkbNJfIfmD"
   },
   "source": [
    "## Avoiding _wraparound_ error\n",
    "\n",
    "O produto $[H(u)F(u)]$, proveniente da equação básica da filtragem, é obtido pelo \"Array product\". Considere os seguintes vetores 4x1:\n",
    "\n",
    "$$\n",
    "\\begin{bmatrix}\n",
    "  a_{1}\\space\\space a_{2}\\space\\space a_{3}\\space\\space a_{4}\n",
    "\\end{bmatrix} \\kern1em and \\kern1em\n",
    "\\begin{bmatrix}\n",
    "  b_{1}\\space\\space b_{2}\\space\\space b_{3}\\space\\space b_{4}\n",
    "\\end{bmatrix} \\\\\n",
    "$$\n",
    "\n",
    "\n",
    "O \"Array product\" é definido como\n",
    "\n",
    "$$\n",
    "\\begin{bmatrix}\n",
    "  a_{1} & a_{2} & a_{3} & a_{4}\n",
    "\\end{bmatrix}\n",
    "\\begin{bmatrix}\n",
    "  b_{1} & b_{2} & b_{3} & b_{4}\n",
    "\\end{bmatrix} = \n",
    "\\begin{bmatrix}\n",
    "  a_{1}b_{1} & a_{2}b_{2} & a_{3}b_{3} & a_{4}b_{4}\n",
    "\\end{bmatrix} \\\\\n",
    "$$\n",
    "\n",
    "O conceito de Array product nos ajuda a explicar a ocorrência do erro de _wraparound_ a partir do Teorema da convolução.\n",
    "\n",
    "Em matemática, convolução é um operador linear que mensura a soma do produto de duas funções dadas ao longo de uma região subentendida pela superposição das funções em função do deslocamento entre elas. Em funções discretas, é dada por:\n",
    "\n",
    "$$ (f*g)(k) = h(k) \\triangleq \\sum_{j=0}^{k}f(j) \\cdot g(k-j) \\\\ $$\n",
    "\n",
    "onde $f$ e $g$ são arrays de tamanho $n$\n",
    "\n",
    "\n",
    "O Teorema da convolução 1-D, no caso de convolução discreta, nos diz que:\n",
    "\n",
    "$$ \\mathcal{F}\\{ f*g \\} = k \\cdot \\mathcal{F}\\{f\\} \\mathcal{F}\\{g\\} \\\\ $$\n",
    "\n",
    "Portanto, a DTF da convolução de duas funções no dominío espacial corresponde ao produto das transformadas dessas funções no domínio da frequência. Escrevendo de forma a facilitar a relação do Teorema da convolução com a equação básica da filtragem, temos:\n",
    "\n",
    "$$ f(t) * h(t)  \\iff F(\\mu)H(\\mu) $$\n",
    "\n",
    "The double arrow means that the expression on the right side is obtained by taking the Fourier transform of the expression on the left, as well as, the expression on the left was obtained by taking the inverse Fourier transform of the expression on the right.\n",
    "\n",
    "Assim, se utilizar a DTF e o Teorema da convolução para obter o mesmo resultado de filtragem, devemos tomar conta a periodicidade implícita na expressão para a DFT. Nesse caso, estaríamos aplicando a convolução à duas funções teóricamente períodicas, o que implicaria no resultado da convolução ser também periódico que, por meio de aplicações práticas nota-se ser completamente errôneo. A proximidade dos períodos de ambas funções é tamanha que eles interferem um no outro, provocando o erro de _wraparound_ (efeito de borda). \n",
    "\n",
    "Já estamos minimizando esse erro realizando a expansão das extremidades do sinal, contudo essa prática pode não ser suficiente para lidar com o efeito de borda. Para tornar nosso algoritmo ainda mais robusto quanto ao erro de _wraparound_ e otimizar o cálculo da FFT, aplicaremos o Zero Padding\n",
    "\n",
    "Esse procedimento consiste em adicionar zeros no final do sinal do dominío espacial, antes de ser calculada sua transformada de Fourier, visando aumentar o seu tamanho. Esse procedimento é utilizado para remover a periodicidade implícita do sinal, o que acarreta em resultados inesperados no resultado da filtragem. Tal propriedade matemática está deduzida na obra Fast Fourier Transform and Its Applications by E. Brigham (1988).\n",
    "\n",
    "Outra grande utilidade do Zero Padding é em otimizar o algoritmo da FFT. Como, seguindo algumas regras, podemos modificar o tamanho no nosso sinal original, é uma boa prática transformar o seu tamanho em uma potência de 2. Para prosseguirmos com esse procedimento, temos que seguir algumas regras: [FFT Zero Padding](https://www.bitweenie.com/listings/fft-zero-padding/).\n",
    "\n"
   ]
  },
  {
   "cell_type": "code",
   "execution_count": 8,
   "metadata": {
    "executionInfo": {
     "elapsed": 582,
     "status": "ok",
     "timestamp": 1616537942923,
     "user": {
      "displayName": "Guilherme Samuel",
      "photoUrl": "https://lh3.googleusercontent.com/a-/AOh14Gi5zFr3jUWJ1NdrUB6KSy3C4B0uR2RLqUiKRzi0S2M=s64",
      "userId": "17398030156076443435"
     },
     "user_tz": 180
    },
    "id": "fjvpsz_5K3Xg"
   },
   "outputs": [],
   "source": [
    "def padding(array):\n",
    "  return np.append(array, np.zeros(len(array)))"
   ]
  },
  {
   "cell_type": "code",
   "execution_count": 14,
   "metadata": {
    "colab": {
     "base_uri": "https://localhost:8080/"
    },
    "executionInfo": {
     "elapsed": 587,
     "status": "ok",
     "timestamp": 1616538334358,
     "user": {
      "displayName": "Guilherme Samuel",
      "photoUrl": "https://lh3.googleusercontent.com/a-/AOh14Gi5zFr3jUWJ1NdrUB6KSy3C4B0uR2RLqUiKRzi0S2M=s64",
      "userId": "17398030156076443435"
     },
     "user_tz": 180
    },
    "id": "BcGLgEqlMQfz",
    "outputId": "4238d7f9-6c6c-4db5-8382-3176de1b22b0"
   },
   "outputs": [
    {
     "name": "stdout",
     "output_type": "stream",
     "text": [
      "The previous length was: 24092 , and now we have: 48184 \n",
      "The difference is: 24092\n"
     ]
    }
   ],
   "source": [
    "y_padded = padding(y_expanded)\n",
    "\n",
    "print(\"The previous length was:\", len(y_expanded), \", and now we have:\", len(y_padded), \"\\nThe difference is:\", (len(y_padded) - len(y_expanded) ))"
   ]
  },
  {
   "cell_type": "markdown",
   "metadata": {
    "id": "vgKavJuwIj4T"
   },
   "source": [
    "## Centering the transform\n",
    "\n",
    "Tendo aplicado o Zero Padding, o próximo passo é buscar simplificar a definição da função de transferência do filtro, $H(u)$. Com base em diversas propriedades de simetria de funções, nota-se que a especificação de $H(u)$ é bem simplificada quando estamos trabalhando com funções simétrias ao centro, o que requer que $F(u)$ também esteja centralizada.\n",
    "\n",
    "A centralização das funções é demostrada pela propriedade de Translação e Rotação da transformada de Fourier:\n",
    "\n",
    "$$ f(x) e^{j2\\pi(u_0 x/M)} \\iff F(u - u_0) \\\\ $$\n",
    "\n",
    "Isso é, multiplicar $f(x)$ pelo exponencial mostrado desloca a origem da DFT para $u_0$. Tomando $u_0 = M/2$, o expoenencial passa a ser $e^{j\\pi x} = (-1)^{x}$, estritamente pois $x$ é um número inteiro. Assim,\n",
    "\n",
    "$$ f(x) (-1)^{x} \\iff F(u - M/2) \\\\ $$\n",
    "\n",
    "Portanto, a multiplicação do sinal de input $f(x)$ por $(-1)^{x}$ implica no deslocamento dos dados de forma que $F(0)$ fica no centro do intervalo $[0, M-1]$, como queríamos.\n",
    "\n",
    "Esse procedimento deve ser feito antes de computar a transformada de Fourier da $f(x)$ e ele serve para ajudar na visualização do processo de filtragem e na otimização da geração do array do fitro, portanto não é obrigatório implementa-lo.\n",
    "\n"
   ]
  },
  {
   "cell_type": "code",
   "execution_count": 9,
   "metadata": {
    "executionInfo": {
     "elapsed": 1805,
     "status": "ok",
     "timestamp": 1616538000223,
     "user": {
      "displayName": "Guilherme Samuel",
      "photoUrl": "https://lh3.googleusercontent.com/a-/AOh14Gi5zFr3jUWJ1NdrUB6KSy3C4B0uR2RLqUiKRzi0S2M=s64",
      "userId": "17398030156076443435"
     },
     "user_tz": 180
    },
    "id": "ZzPMQsvUK9K2"
   },
   "outputs": [],
   "source": [
    "def multiplying_by_minus_one_to_index(array):\n",
    "  i = 0\n",
    "  new_array = np.ones(len(array))\n",
    "\n",
    "  for i in range(len(array)):\n",
    "    new_array[i] = array[i] * ( (-1)**(i) )\n",
    "  \n",
    "  return new_array"
   ]
  },
  {
   "cell_type": "code",
   "execution_count": 15,
   "metadata": {
    "executionInfo": {
     "elapsed": 578,
     "status": "ok",
     "timestamp": 1616538361673,
     "user": {
      "displayName": "Guilherme Samuel",
      "photoUrl": "https://lh3.googleusercontent.com/a-/AOh14Gi5zFr3jUWJ1NdrUB6KSy3C4B0uR2RLqUiKRzi0S2M=s64",
      "userId": "17398030156076443435"
     },
     "user_tz": 180
    },
    "id": "_pAEX5CMMZTy"
   },
   "outputs": [],
   "source": [
    "y_centralized = multiplying_by_minus_one_to_index(y_padded)"
   ]
  },
  {
   "cell_type": "markdown",
   "metadata": {
    "id": "78eAXHR5IlyD"
   },
   "source": [
    "## Taking the Fourier transform"
   ]
  },
  {
   "cell_type": "code",
   "execution_count": 10,
   "metadata": {
    "executionInfo": {
     "elapsed": 1213,
     "status": "ok",
     "timestamp": 1616538000224,
     "user": {
      "displayName": "Guilherme Samuel",
      "photoUrl": "https://lh3.googleusercontent.com/a-/AOh14Gi5zFr3jUWJ1NdrUB6KSy3C4B0uR2RLqUiKRzi0S2M=s64",
      "userId": "17398030156076443435"
     },
     "user_tz": 180
    },
    "id": "4ihfB2NPLEdE"
   },
   "outputs": [],
   "source": [
    "def fourier_transform(array):\n",
    "  fft = np.fft.fft(array)\n",
    "  \n",
    "  return fft"
   ]
  },
  {
   "cell_type": "code",
   "execution_count": 16,
   "metadata": {
    "executionInfo": {
     "elapsed": 580,
     "status": "ok",
     "timestamp": 1616538376138,
     "user": {
      "displayName": "Guilherme Samuel",
      "photoUrl": "https://lh3.googleusercontent.com/a-/AOh14Gi5zFr3jUWJ1NdrUB6KSy3C4B0uR2RLqUiKRzi0S2M=s64",
      "userId": "17398030156076443435"
     },
     "user_tz": 180
    },
    "id": "4bJFJ90bMfFg"
   },
   "outputs": [],
   "source": [
    "y_fft = fourier_transform(y_centralized)"
   ]
  },
  {
   "cell_type": "markdown",
   "metadata": {
    "id": "phfBHr-uIpiy"
   },
   "source": [
    "## Butterworth transfer function"
   ]
  },
  {
   "cell_type": "code",
   "execution_count": 40,
   "metadata": {
    "executionInfo": {
     "elapsed": 621,
     "status": "ok",
     "timestamp": 1616538721677,
     "user": {
      "displayName": "Guilherme Samuel",
      "photoUrl": "https://lh3.googleusercontent.com/a-/AOh14Gi5zFr3jUWJ1NdrUB6KSy3C4B0uR2RLqUiKRzi0S2M=s64",
      "userId": "17398030156076443435"
     },
     "user_tz": 180
    },
    "id": "YSFwPcPgNwMZ"
   },
   "outputs": [],
   "source": [
    "cutoff_freq = 0.2\n",
    "order       = 2"
   ]
  },
  {
   "cell_type": "code",
   "execution_count": 98,
   "metadata": {
    "executionInfo": {
     "elapsed": 595,
     "status": "ok",
     "timestamp": 1616539452034,
     "user": {
      "displayName": "Guilherme Samuel",
      "photoUrl": "https://lh3.googleusercontent.com/a-/AOh14Gi5zFr3jUWJ1NdrUB6KSy3C4B0uR2RLqUiKRzi0S2M=s64",
      "userId": "17398030156076443435"
     },
     "user_tz": 180
    },
    "id": "W4SEyoE9O2gp"
   },
   "outputs": [],
   "source": [
    "def butterworth_array(array):\n",
    "  # Extrating information of the signal\n",
    "  \n",
    "  n_time = len(y)                 # \n",
    "  D0 = cutoff_freq * n_time       # \n",
    "  xc = n_time                     # \n",
    "\n",
    "  # Creating the filter array\n",
    "\n",
    "  len_filter = len(array)         # \n",
    "  filter = np.zeros(len_filter)   #\n",
    "\n",
    "  for i in range(len_filter):\n",
    "    filter[i] = 1.0 / (1.0+(abs(i-(xc-1.0))/D0)**(2.0*order))\n",
    "\n",
    "  return filter"
   ]
  },
  {
   "cell_type": "markdown",
   "metadata": {
    "id": "UnTg1KD-Owlx"
   },
   "source": [
    "### Applying filter"
   ]
  },
  {
   "cell_type": "code",
   "execution_count": 89,
   "metadata": {
    "executionInfo": {
     "elapsed": 474,
     "status": "ok",
     "timestamp": 1616539440861,
     "user": {
      "displayName": "Guilherme Samuel",
      "photoUrl": "https://lh3.googleusercontent.com/a-/AOh14Gi5zFr3jUWJ1NdrUB6KSy3C4B0uR2RLqUiKRzi0S2M=s64",
      "userId": "17398030156076443435"
     },
     "user_tz": 180
    },
    "id": "Y8VBBxxuOzlo"
   },
   "outputs": [],
   "source": [
    "y_butter = butterworth_array(y_fft) * y_fft"
   ]
  },
  {
   "cell_type": "markdown",
   "metadata": {
    "id": "xDzlmpXbItLy"
   },
   "source": [
    "## Inverse Fourier transform"
   ]
  },
  {
   "cell_type": "code",
   "execution_count": 90,
   "metadata": {
    "executionInfo": {
     "elapsed": 392,
     "status": "ok",
     "timestamp": 1616539441180,
     "user": {
      "displayName": "Guilherme Samuel",
      "photoUrl": "https://lh3.googleusercontent.com/a-/AOh14Gi5zFr3jUWJ1NdrUB6KSy3C4B0uR2RLqUiKRzi0S2M=s64",
      "userId": "17398030156076443435"
     },
     "user_tz": 180
    },
    "id": "BGCvKyd6LRjL"
   },
   "outputs": [],
   "source": [
    "def inverse_fourier_transform(array):\n",
    "  ifft = np.fft.ifft(array)\n",
    "\n",
    "  return ifft"
   ]
  },
  {
   "cell_type": "code",
   "execution_count": 91,
   "metadata": {
    "executionInfo": {
     "elapsed": 620,
     "status": "ok",
     "timestamp": 1616539441416,
     "user": {
      "displayName": "Guilherme Samuel",
      "photoUrl": "https://lh3.googleusercontent.com/a-/AOh14Gi5zFr3jUWJ1NdrUB6KSy3C4B0uR2RLqUiKRzi0S2M=s64",
      "userId": "17398030156076443435"
     },
     "user_tz": 180
    },
    "id": "mVTw4ySzMklu"
   },
   "outputs": [],
   "source": [
    "y_ifft = np.real(inverse_fourier_transform(y_butter))"
   ]
  },
  {
   "cell_type": "markdown",
   "metadata": {
    "id": "sNlk_PckIvRm"
   },
   "source": [
    "## Removing Zero-Padding"
   ]
  },
  {
   "cell_type": "code",
   "execution_count": 92,
   "metadata": {
    "executionInfo": {
     "elapsed": 426,
     "status": "ok",
     "timestamp": 1616539441719,
     "user": {
      "displayName": "Guilherme Samuel",
      "photoUrl": "https://lh3.googleusercontent.com/a-/AOh14Gi5zFr3jUWJ1NdrUB6KSy3C4B0uR2RLqUiKRzi0S2M=s64",
      "userId": "17398030156076443435"
     },
     "user_tz": 180
    },
    "id": "AMjMG2G-LZPc"
   },
   "outputs": [],
   "source": [
    "def no_padding(array):\n",
    "  return array[:int(len(array)/2)]"
   ]
  },
  {
   "cell_type": "code",
   "execution_count": 93,
   "metadata": {
    "executionInfo": {
     "elapsed": 420,
     "status": "ok",
     "timestamp": 1616539441720,
     "user": {
      "displayName": "Guilherme Samuel",
      "photoUrl": "https://lh3.googleusercontent.com/a-/AOh14Gi5zFr3jUWJ1NdrUB6KSy3C4B0uR2RLqUiKRzi0S2M=s64",
      "userId": "17398030156076443435"
     },
     "user_tz": 180
    },
    "id": "-OotwhtoMonE"
   },
   "outputs": [],
   "source": [
    "y_no_padding = no_padding(y_ifft)"
   ]
  },
  {
   "cell_type": "markdown",
   "metadata": {
    "id": "rb7xYeESIxW4"
   },
   "source": [
    "## Removing borders expanded"
   ]
  },
  {
   "cell_type": "code",
   "execution_count": 94,
   "metadata": {
    "executionInfo": {
     "elapsed": 669,
     "status": "ok",
     "timestamp": 1616539442917,
     "user": {
      "displayName": "Guilherme Samuel",
      "photoUrl": "https://lh3.googleusercontent.com/a-/AOh14Gi5zFr3jUWJ1NdrUB6KSy3C4B0uR2RLqUiKRzi0S2M=s64",
      "userId": "17398030156076443435"
     },
     "user_tz": 180
    },
    "id": "VrjnWiz8LcU4"
   },
   "outputs": [],
   "source": [
    "def remove_expanded_borders(array, param):\n",
    "  aux = np.delete(array, np.s_[:param])\n",
    "  removed = np.delete(aux, np.s_[-param:])\n",
    "\n",
    "  return removed"
   ]
  },
  {
   "cell_type": "code",
   "execution_count": 95,
   "metadata": {
    "executionInfo": {
     "elapsed": 661,
     "status": "ok",
     "timestamp": 1616539442918,
     "user": {
      "displayName": "Guilherme Samuel",
      "photoUrl": "https://lh3.googleusercontent.com/a-/AOh14Gi5zFr3jUWJ1NdrUB6KSy3C4B0uR2RLqUiKRzi0S2M=s64",
      "userId": "17398030156076443435"
     },
     "user_tz": 180
    },
    "id": "YjBkbEHuMveY"
   },
   "outputs": [],
   "source": [
    "y_no_expanded = remove_expanded_borders(y_no_padding, n_points_expansion)"
   ]
  },
  {
   "cell_type": "markdown",
   "metadata": {
    "id": "5j3Y4jHnI1Gf"
   },
   "source": [
    "## Re-multiplying data by $(-1)^{x}$"
   ]
  },
  {
   "cell_type": "code",
   "execution_count": 96,
   "metadata": {
    "executionInfo": {
     "elapsed": 542,
     "status": "ok",
     "timestamp": 1616539443134,
     "user": {
      "displayName": "Guilherme Samuel",
      "photoUrl": "https://lh3.googleusercontent.com/a-/AOh14Gi5zFr3jUWJ1NdrUB6KSy3C4B0uR2RLqUiKRzi0S2M=s64",
      "userId": "17398030156076443435"
     },
     "user_tz": 180
    },
    "id": "BKoyfomzM-M_"
   },
   "outputs": [],
   "source": [
    "y_filtered = multiplying_by_minus_one_to_index(y_no_expanded)"
   ]
  },
  {
   "cell_type": "markdown",
   "metadata": {
    "id": "KhWqCA4JI9JT"
   },
   "source": [
    "## Results"
   ]
  },
  {
   "cell_type": "code",
   "execution_count": 97,
   "metadata": {
    "colab": {
     "base_uri": "https://localhost:8080/",
     "height": 542,
     "output_embedded_package_id": "1cH5SRxooNB8hF89MctTHPGHgcJJSyKyx"
    },
    "executionInfo": {
     "elapsed": 2214,
     "status": "ok",
     "timestamp": 1616539445733,
     "user": {
      "displayName": "Guilherme Samuel",
      "photoUrl": "https://lh3.googleusercontent.com/a-/AOh14Gi5zFr3jUWJ1NdrUB6KSy3C4B0uR2RLqUiKRzi0S2M=s64",
      "userId": "17398030156076443435"
     },
     "user_tz": 180
    },
    "id": "JxvNFMw-NlCQ",
    "outputId": "58e16dbe-c556-4eef-aa60-5dd041dd4cd0"
   },
   "outputs": [
    {
     "data": {
      "text/plain": [
       "Output hidden; open in https://colab.research.google.com to view."
      ]
     },
     "metadata": {},
     "output_type": "display_data"
    }
   ],
   "source": [
    "import plotly.graph_objs as go\n",
    "\n",
    "fig = go.Figure()\n",
    "\n",
    "fig.add_trace(go.Scatter(x=x, y=y,\n",
    "                           mode='lines',\n",
    "                           name='Original Light Curve'))\n",
    "\n",
    "fig.add_trace(go.Scatter(x=x, y=y_filtered,\n",
    "                           mode='lines',\n",
    "                           name='Light Curve Filtered'))\n",
    "\n",
    "fig.update_layout(title='Light Curve before and after the Butterworth filter',\n",
    "                   xaxis_title='Date',\n",
    "                   yaxis_title='Whiteflux')\n",
    "\n",
    "fig.show()"
   ]
  },
  {
   "cell_type": "markdown",
   "metadata": {
    "id": "J0y4G4M4I_KG"
   },
   "source": [
    "# Generating algorithm ...\n",
    "\n",
    "---\n",
    "\n",
    "Since all the Mathematical and Computacional requirements have been prosecuted, we are going to summary all this on a single algorithm."
   ]
  },
  {
   "cell_type": "code",
   "execution_count": null,
   "metadata": {
    "id": "5zEkP6tRJELx"
   },
   "outputs": [],
   "source": [
    "def butterworth_filtering(original_array):\n",
    "  pass"
   ]
  }
 ],
 "metadata": {
  "colab": {
   "authorship_tag": "ABX9TyPGzz47YUFSSxXW8eruh6Yc",
   "collapsed_sections": [
    "x_slpeIwHNWn",
    "78eAXHR5IlyD",
    "UnTg1KD-Owlx",
    "xDzlmpXbItLy",
    "sNlk_PckIvRm",
    "rb7xYeESIxW4",
    "5j3Y4jHnI1Gf"
   ],
   "mount_file_id": "1brCgUIJTqhy0NsJBTJ4AaaMyYi6CkCTY",
   "name": "02 - Butterworth filtering_NEW.ipynb",
   "provenance": [],
   "toc_visible": true
  },
  "kernelspec": {
   "display_name": "Python 3",
   "name": "python3"
  },
  "language_info": {
   "name": "python"
  }
 },
 "nbformat": 4,
 "nbformat_minor": 0
}
